{
 "cells": [
  {
   "cell_type": "code",
   "execution_count": null,
   "metadata": {},
   "outputs": [],
   "source": [
    "import scipy\n",
    "from Gesture import GestureSet\n",
    "\n",
    "Gestures = scipy.io.loadmat('gesture_dataset.mat')\n",
    "gestures = Gestures['gestures']\n",
    "gesture_sets = [GestureSet(g) for g in gestures[0]]"
   ]
  }
 ],
 "metadata": {
  "kernelspec": {
   "display_name": "mp2",
   "language": "python",
   "name": "python3"
  },
  "language_info": {
   "name": "python",
   "version": "3.11.0"
  }
 },
 "nbformat": 4,
 "nbformat_minor": 2
}
