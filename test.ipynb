{
 "cells": [
  {
   "cell_type": "code",
   "execution_count": 3,
   "metadata": {},
   "outputs": [],
   "source": [
    "import scipy\n",
    "from Gesture import GestureSet\n",
    "\n",
    "Gestures = scipy.io.loadmat('gesture_dataset.mat')\n",
    "gestures = Gestures['gestures']\n",
    "# print(gestures)\n",
    "# # gesture_sets = [GestureSet(g) for g in gestures[0]]"
   ]
  },
  {
   "cell_type": "code",
   "execution_count": 13,
   "metadata": {},
   "outputs": [
    {
     "name": "stdout",
     "output_type": "stream",
     "text": [
      "[0, 1, 2, 3, 4, 5, 6, 7, 8, 9, 10, 11]\n",
      "[2, 5, 8, 11]\n"
     ]
    }
   ],
   "source": [
    "test = [i for i in range(12)]\n",
    "print(test)\n",
    "print(test[2::3])"
   ]
  },
  {
   "cell_type": "markdown",
   "metadata": {},
   "source": [
    "# Question 1"
   ]
  },
  {
   "cell_type": "markdown",
   "metadata": {},
   "source": [
    "Looking at sequences of the same gesture type, there are observable variations in the way people perform gestures.\n",
    "- **Extra body movement**: For example, in the zoom-in (two hands moving outward) gesture, some sequences show pure hand movement, while others include head or shoulder movement/rotation. \n",
    "- **Speed differences**: Some gestures move quickly while others are slower\n",
    "- **Trajectory variation**: Hands move in slightly different paths for same gesture type, which can be observed in Point category."
   ]
  },
  {
   "cell_type": "markdown",
   "metadata": {},
   "source": [
    "If poses are not normalized, there will be below challenges:\n",
    "- **Varied body size**: If participants have different body sizes, the raw positions of joints would be inconsistent.A model trained on one person's data might fail when tested on another person with different proportions.\n",
    "- **Orientation**: If people face slightly different directions while performing gestures, their hand positions relative to the body would shift. These misaligned poses would not match correctly with gestures performed facing directly forward.\n"
   ]
  },
  {
   "cell_type": "markdown",
   "metadata": {},
   "source": [
    "## Question 2"
   ]
  },
  {
   "cell_type": "markdown",
   "metadata": {},
   "source": [
    "The chance performance will depend on the prior probability distribution of the labels in the training set. Given there are 9 gesture labels, and the gestures are uniformly distributed across these labels , the random guessing will have accuracy of **1/9**"
   ]
  },
  {
   "cell_type": "markdown",
   "metadata": {},
   "source": [
    "## Question 3"
   ]
  },
  {
   "cell_type": "markdown",
   "metadata": {},
   "source": [
    "The Nearest Neighbor (NN) algorithm relies on directly comparing sequences using a distance metric. In our case, L2 norm is used, which computes the rooted average of point-wise squared distance.\n",
    "$$\n",
    "d(A,B) = \\sqrt{\\sum_{i=1}^{N}(A_i - B_i)^2}\n",
    "$$\n",
    "\n",
    "If A has 20 frames and another has 10, you can't directly compute the difference."
   ]
  },
  {
   "cell_type": "markdown",
   "metadata": {},
   "source": [
    "## Question4"
   ]
  },
  {
   "cell_type": "markdown",
   "metadata": {},
   "source": [
    "**Pros**\n",
    "- There is no training required, we only store training data and compute L2 distances. This method will work well with small dataset, without requiring huge amounts of training data.\n",
    "- This is non-parametric method. Unlike the models such as Neural Nets that require parametric assumption on data distributions. Nearest neighbor can handle complex, non-linear gesture patterns.\n",
    "\n",
    "**Cons**\n",
    "- It is computationally expensive. As each inference will required O(N) to compare with all training data.\n",
    "- It requires fixed-length sequence. Unlike neural networks like RNN can allow flexible length, NN due to pointwise L2 distance metric, requiring resampling when preprocssing the data.\n",
    "- It is sensitive to outliers. If the gesture sequences have many unnecessary motion, it will heavily influence NN's performance. "
   ]
  },
  {
   "cell_type": "markdown",
   "metadata": {},
   "source": [
    "# Question 5"
   ]
  },
  {
   "cell_type": "markdown",
   "metadata": {},
   "source": [
    "Accuracy at ```num_frames = 20``` and ```ratio = 0.4``` is **0.75926**\n",
    "\n",
    "The code and visualization of parameter grid search is attached below. The best parameter tried sofar is ```num_frames = 25``` and ```ratio = 0.4``` which yields an accuracy of **0.8519**\n",
    "\n"
   ]
  },
  {
   "cell_type": "code",
   "execution_count": 1,
   "metadata": {},
   "outputs": [
    {
     "name": "stdout",
     "output_type": "stream",
     "text": [
      "Tested num_frames=10, ratio=0.3, Accuracy=0.6561\n",
      "Tested num_frames=10, ratio=0.4, Accuracy=0.7099\n",
      "Tested num_frames=10, ratio=0.5, Accuracy=0.7259\n",
      "Tested num_frames=10, ratio=0.6, Accuracy=0.7407\n",
      "Tested num_frames=10, ratio=0.7, Accuracy=0.7901\n",
      "Tested num_frames=15, ratio=0.3, Accuracy=0.6243\n",
      "Tested num_frames=15, ratio=0.4, Accuracy=0.7531\n",
      "Tested num_frames=15, ratio=0.5, Accuracy=0.6593\n",
      "Tested num_frames=15, ratio=0.6, Accuracy=0.7500\n",
      "Tested num_frames=15, ratio=0.7, Accuracy=0.7407\n",
      "Tested num_frames=20, ratio=0.3, Accuracy=0.7249\n",
      "Tested num_frames=20, ratio=0.4, Accuracy=0.7593\n",
      "Tested num_frames=20, ratio=0.5, Accuracy=0.7778\n",
      "Tested num_frames=20, ratio=0.6, Accuracy=0.7315\n",
      "Tested num_frames=20, ratio=0.7, Accuracy=0.7901\n",
      "Tested num_frames=25, ratio=0.3, Accuracy=0.6931\n",
      "Tested num_frames=25, ratio=0.4, Accuracy=0.7037\n",
      "Tested num_frames=25, ratio=0.5, Accuracy=0.7852\n",
      "Tested num_frames=25, ratio=0.6, Accuracy=0.7315\n",
      "Tested num_frames=25, ratio=0.7, Accuracy=0.8519\n",
      "Tested num_frames=30, ratio=0.3, Accuracy=0.6455\n",
      "Tested num_frames=30, ratio=0.4, Accuracy=0.7778\n",
      "Tested num_frames=30, ratio=0.5, Accuracy=0.6815\n",
      "Tested num_frames=30, ratio=0.6, Accuracy=0.7963\n",
      "Tested num_frames=30, ratio=0.7, Accuracy=0.8272\n"
     ]
    },
    {
     "data": {
      "image/png": "[encoded data removed]",
      "text/plain": [
       "<Figure size 800x600 with 2 Axes>"
      ]
     },
     "metadata": {},
     "output_type": "display_data"
    }
   ],
   "source": [
    "import numpy as np\n",
    "import matplotlib.pyplot as plt\n",
    "from test_classify_nn import test_classify_nn\n",
    "frame_options=[10,15, 20, 25,30]\n",
    "ratio_options=[0.3, 0.4, 0.5, 0.6,0.7]\n",
    "\n",
    "accuracy_results = np.zeros((len(frame_options), len(ratio_options)))\n",
    "\n",
    "# Run tests for each combination of num_frames and ratio\n",
    "for i, num_frames in enumerate(frame_options):\n",
    "    for j, ratio in enumerate(ratio_options):\n",
    "        accuracy = test_classify_nn(num_frames, ratio)\n",
    "        accuracy_results[i, j] = accuracy\n",
    "        print(f\"Tested num_frames={num_frames}, ratio={ratio}, Accuracy={accuracy:.4f}\")\n",
    "\n",
    "# Visualize the results using a heatmap\n",
    "plt.figure(figsize=(8, 6))\n",
    "plt.imshow(accuracy_results, cmap=\"viridis\", aspect=\"auto\", interpolation=\"nearest\")\n",
    "plt.colorbar(label=\"Accuracy\")\n",
    "plt.xticks(ticks=np.arange(len(ratio_options)), labels=[f\"{r}\" for r in ratio_options])\n",
    "plt.yticks(ticks=np.arange(len(frame_options)), labels=[f\"{f}\" for f in frame_options])\n",
    "plt.xlabel(\"Training Ratio\")\n",
    "plt.ylabel(\"Num Frames\")\n",
    "plt.title(\"Classification Accuracy for Different Parameters\")\n",
    "plt.show()\n",
    "\n"
   ]
  }
 ],
 "metadata": {
  "kernelspec": {
   "display_name": "mp2",
   "language": "python",
   "name": "python3"
  },
  "language_info": {
   "codemirror_mode": {
    "name": "ipython",
    "version": 3
   },
   "file_extension": ".py",
   "mimetype": "text/x-python",
   "name": "python",
   "nbconvert_exporter": "python",
   "pygments_lexer": "ipython3",
   "version": "3.11.0"
  }
 },
 "nbformat": 4,
 "nbformat_minor": 2
}
